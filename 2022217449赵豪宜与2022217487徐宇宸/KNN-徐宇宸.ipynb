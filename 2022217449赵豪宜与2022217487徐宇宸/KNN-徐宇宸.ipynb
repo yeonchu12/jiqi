{
 "cells": [
  {
   "cell_type": "code",
   "execution_count": 22,
   "id": "49e19702-ba4e-4dad-b394-bfaae1a07815",
   "metadata": {
    "scrolled": true
   },
   "outputs": [
    {
     "name": "stdout",
     "output_type": "stream",
     "text": [
      "Confusion Matrix:\n",
      " [[467  33]\n",
      " [ 68 432]]\n",
      "\n",
      "Classification Report:\n",
      "               precision    recall  f1-score   support\n",
      "\n",
      "      benign       0.87      0.93      0.90       500\n",
      "   malignant       0.93      0.86      0.90       500\n",
      "\n",
      "    accuracy                           0.90      1000\n",
      "   macro avg       0.90      0.90      0.90      1000\n",
      "weighted avg       0.90      0.90      0.90      1000\n",
      "\n"
     ]
    }
   ],
   "source": [
    "from PIL import Image\n",
    "import os\n",
    "import numpy as np\n",
    "from sklearn.neighbors import KNeighborsClassifier\n",
    "from sklearn.decomposition import PCA\n",
    "from sklearn.metrics import classification_report, confusion_matrix\n",
    "from sklearn.preprocessing import LabelEncoder\n",
    "\n",
    "def extract_pixel_features(image_path, resize_shape=(64, 64)):\n",
    "    with Image.open(image_path) as img:\n",
    "        img_resized = img.resize(resize_shape)\n",
    "        img_array = np.array(img_resized)\n",
    "        return img_array.flatten()\n",
    "\n",
    "def load_images_and_labels(data_dir):\n",
    "    features = []\n",
    "    labels = []\n",
    "    for label in os.listdir(data_dir):\n",
    "        label_dir = os.path.join(data_dir, label)\n",
    "        if os.path.isdir(label_dir):\n",
    "            for img_name in os.listdir(label_dir):\n",
    "                img_path = os.path.join(label_dir, img_name)\n",
    "                feature = extract_pixel_features(img_path)\n",
    "                features.append(feature)\n",
    "                labels.append(label)\n",
    "    return np.array(features), np.array(labels)\n",
    "\n",
    "train_data_dir = 'C:/Users/Administrator/Desktop/melanoma_cancer_dataset/train'\n",
    "test_data_dir = 'C:/Users/Administrator/Desktop/melanoma_cancer_dataset/test'\n",
    "\n",
    "# 加载训练集和测试集\n",
    "train_features, train_labels = load_images_and_labels(train_data_dir)\n",
    "test_features, test_labels = load_images_and_labels(test_data_dir)\n",
    "\n",
    "# 标签编码\n",
    "le = LabelEncoder()\n",
    "train_labels_encoded = le.fit_transform(train_labels)\n",
    "test_labels_encoded = le.transform(test_labels)\n",
    "\n",
    "# PCA 降维\n",
    "pca = PCA(n_components=0.95)  # 保持95%的方差\n",
    "train_features_pca = pca.fit_transform(train_features)\n",
    "test_features_pca = pca.transform(test_features)\n",
    "\n",
    "# 应用 KNN 分类器\n",
    "knn = KNeighborsClassifier(n_neighbors=3)\n",
    "knn.fit(train_features_pca, train_labels_encoded)\n",
    "\n",
    "# 预测\n",
    "test_pred = knn.predict(test_features_pca)\n",
    "\n",
    "# 反编码预测标签\n",
    "test_pred_decoded = le.inverse_transform(test_pred)\n",
    "test_labels_decoded = le.inverse_transform(test_labels_encoded)\n",
    "\n",
    "# 评估\n",
    "print(\"Confusion Matrix:\\n\", confusion_matrix(test_labels_decoded, test_pred_decoded))\n",
    "print(\"\\nClassification Report:\\n\", classification_report(test_labels_decoded, test_pred_decoded))"
   ]
  },
  {
   "cell_type": "code",
   "execution_count": null,
   "id": "958d83a4-5eab-419a-beb3-8bf03a2fb8c4",
   "metadata": {},
   "outputs": [],
   "source": []
  },
  {
   "cell_type": "code",
   "execution_count": null,
   "id": "e1d88485-a797-4fec-b817-7cd6ee1fae6e",
   "metadata": {},
   "outputs": [],
   "source": []
  }
 ],
 "metadata": {
  "kernelspec": {
   "display_name": "Python 3 (ipykernel)",
   "language": "python",
   "name": "python3"
  },
  "language_info": {
   "codemirror_mode": {
    "name": "ipython",
    "version": 3
   },
   "file_extension": ".py",
   "mimetype": "text/x-python",
   "name": "python",
   "nbconvert_exporter": "python",
   "pygments_lexer": "ipython3",
   "version": "3.11.7"
  }
 },
 "nbformat": 4,
 "nbformat_minor": 5
}
