{
 "cells": [
  {
   "cell_type": "markdown",
   "id": "809cc3ca-2571-4445-b46b-47d91da72bd1",
   "metadata": {},
   "source": [
    "##### 导入对应库"
   ]
  },
  {
   "cell_type": "code",
   "execution_count": 10,
   "id": "841fd001-3a48-4486-b29f-7c8744ba5aca",
   "metadata": {},
   "outputs": [],
   "source": [
    "import torch\n",
    "import torchvision\n",
    "import torchvision.transforms as transforms\n",
    "from torch.utils.data import DataLoader\n",
    "from torch import nn, optim\n",
    "from torch.nn import functional as F\n",
    "from sklearn.ensemble import RandomForestClassifier\n",
    "from sklearn.metrics import accuracy_score, precision_score, recall_score, f1_score, confusion_matrix, classification_report\n",
    "from sklearn.feature_selection import SelectPercentile, chi2\n",
    "from tqdm import tqdm\n",
    "import numpy as np\n",
    "import matplotlib.pyplot as plt\n",
    "import seaborn as sns"
   ]
  },
  {
   "cell_type": "markdown",
   "id": "45092f41-6b17-4d12-9816-6d0d1539033d",
   "metadata": {},
   "source": [
    "##### 确保设备（GPU或CPU）正确设置"
   ]
  },
  {
   "cell_type": "code",
   "execution_count": 12,
   "id": "62f83234-7d42-4200-a5a5-e82b53c3a64a",
   "metadata": {},
   "outputs": [],
   "source": [
    "device = torch.device('cuda' if torch.cuda.is_available() else 'cpu')"
   ]
  },
  {
   "cell_type": "markdown",
   "id": "65f3f048-3e37-454c-9aa7-a413da794710",
   "metadata": {},
   "source": [
    "### 数据预处理与增强\n",
    "\n",
    "##### 调整图像大小：确保所有输入图像的尺寸一致，以适应神经网络的输入要求。这里将图像大小调整为32x32像素。\n",
    "##### 随机水平翻转：增强数据集的多样性，通过随机水平翻转图像，模型可以学习到更多的特征，减少过拟合。\n",
    "##### 随机旋转：随机旋转图像一定角度，进一步增加数据多样性。\n",
    "##### 颜色抖动：调整图像的亮度、对比度、饱和度和色调，模拟不同的拍摄条件，使模型更具有鲁棒性。\n",
    "##### 标准化：对图像进行标准化处理，使其符合预训练模型的要求，通常使用ImageNet数据集的均值和标准差进行标准化。"
   ]
  },
  {
   "cell_type": "code",
   "execution_count": 13,
   "id": "d96b023f-2054-4a0e-b3ca-347f3b7ff56f",
   "metadata": {},
   "outputs": [],
   "source": [
    "transform = transforms.Compose([\n",
    "    transforms.Resize((32, 32)),\n",
    "    transforms.RandomHorizontalFlip(),\n",
    "    transforms.RandomRotation(10),\n",
    "    transforms.ColorJitter(brightness=0.2, contrast=0.2, saturation=0.2, hue=0.2),\n",
    "    transforms.ToTensor(),\n",
    "    transforms.Normalize(mean=[0.485, 0.456, 0.406], std=[0.229, 0.224, 0.225])\n",
    "])"
   ]
  },
  {
   "cell_type": "markdown",
   "id": "d7d0d696-53df-45a0-b377-f28741188a5f",
   "metadata": {},
   "source": [
    "### 使用torchvision.datasets.ImageFolder加载数据集\n",
    "##### 它假定数据集按照子文件夹进行组织，每个子文件夹名对应一个类别标签。这里分别加载了训练数据集和测试数据集，并应用了上述的预处理和增强操作。通过DataLoader实现批量数据加载，提高了数据加载效率。"
   ]
  },
  {
   "cell_type": "code",
   "execution_count": 14,
   "id": "3102468b-6991-4f10-a830-b8a91b018ed7",
   "metadata": {},
   "outputs": [],
   "source": [
    "# 加载数据集\n",
    "train_dataset = torchvision.datasets.ImageFolder(root='melanoma_cancer_dataset/train', transform=transform)\n",
    "train_loader = DataLoader(train_dataset, batch_size=32, shuffle=True, num_workers=4)\n",
    "\n",
    "test_dataset = torchvision.datasets.ImageFolder(root='melanoma_cancer_dataset/test', transform=transforms.Compose([\n",
    "    transforms.Resize((32, 32)),\n",
    "    transforms.ToTensor(),\n",
    "    transforms.Normalize(mean=[0.485, 0.456, 0.406], std=[0.229, 0.224, 0.225])\n",
    "]))\n",
    "test_loader = DataLoader(test_dataset, batch_size=32, shuffle=False, num_workers=4)\n"
   ]
  },
  {
   "cell_type": "markdown",
   "id": "45bc3516-75ff-4846-86db-9a389063db9b",
   "metadata": {},
   "source": [
    "##### 定义模型"
   ]
  },
  {
   "cell_type": "code",
   "execution_count": 15,
   "id": "c9a9dfd2-5964-457c-8df6-015cf30d7560",
   "metadata": {},
   "outputs": [],
   "source": [
    "# 定义卷积尖峰神经网络模型\n",
    "class SpikingCNN(nn.Module):\n",
    "    def __init__(self):\n",
    "        super(SpikingCNN, self).__init__()\n",
    "        self.conv1 = nn.Conv2d(3, 6, kernel_size=5, padding=2)  # 使用 padding 确保尺寸不减小过多\n",
    "        self.conv2 = nn.Conv2d(6, 16, kernel_size=5, padding=2)\n",
    "        self.conv3 = nn.Conv2d(16, 32, kernel_size=5, padding=2)\n",
    "        self.pool = nn.MaxPool2d(kernel_size=2, stride=2)\n",
    "        self.fc1 = nn.Linear(32 * 4 * 4, 120)  # 调整全连接层输入大小\n",
    "        self.fc2 = nn.Linear(120, 84)\n",
    "        self.fc3 = nn.Linear(84, 2)\n",
    "        self.dropout = nn.Dropout(0.5)\n",
    "\n",
    "    def forward(self, x):\n",
    "        x = self.pool(F.relu(self.conv1(x)))  # 32x32 -> 16x16\n",
    "        x = self.pool(F.relu(self.conv2(x)))  # 16x16 -> 8x8\n",
    "        x = self.pool(F.relu(self.conv3(x)))  # 8x8 -> 4x4\n",
    "        x = x.view(-1, 32 * 4 * 4)  # 展平处理\n",
    "        x = self.dropout(F.relu(self.fc1(x)))\n",
    "        x = self.dropout(F.relu(self.fc2(x)))\n",
    "        x = self.fc3(x)\n",
    "        return x\n",
    "\n",
    "# 初始化模型\n",
    "model = SpikingCNN().to(device)"
   ]
  },
  {
   "cell_type": "markdown",
   "id": "f5a3cf4b-b6a6-40d9-b24e-45e52af97a75",
   "metadata": {},
   "source": [
    "##### 定义损失函数和优化器"
   ]
  },
  {
   "cell_type": "code",
   "execution_count": 16,
   "id": "8c57e646-e56e-44ec-8d7b-dc22bc453b5b",
   "metadata": {},
   "outputs": [],
   "source": [
    "# 定义损失函数和优化器\n",
    "criterion = nn.CrossEntropyLoss()\n",
    "optimizer = optim.Adam(model.parameters(), lr=0.001)"
   ]
  },
  {
   "cell_type": "markdown",
   "id": "9d7c161e-ff0f-4521-8573-0629b38928eb",
   "metadata": {},
   "source": [
    "##### 早停机制的参数"
   ]
  },
  {
   "cell_type": "code",
   "execution_count": 17,
   "id": "045c4b4b-565c-40c4-88bc-84c1c9f66449",
   "metadata": {},
   "outputs": [],
   "source": [
    "early_stopping_patience = 10\n",
    "early_stopping_counter = 0\n",
    "best_val_loss = float('inf')"
   ]
  },
  {
   "cell_type": "markdown",
   "id": "b6fb506a-5147-4283-8c72-9cd1a11c2614",
   "metadata": {},
   "source": [
    "### 训练和验证"
   ]
  },
  {
   "cell_type": "code",
   "execution_count": 18,
   "id": "9881d420-b739-4edc-8e3a-d3bb874860cf",
   "metadata": {},
   "outputs": [
    {
     "name": "stderr",
     "output_type": "stream",
     "text": [
      "Epoch 1/20 - Training: 100%|█████████████████████████████████████████████████████████| 301/301 [00:19<00:00, 15.33it/s]\n",
      "Epoch 1/20 - Validation: 100%|█████████████████████████████████████████████████████████| 32/32 [00:04<00:00,  6.49it/s]\n"
     ]
    },
    {
     "name": "stdout",
     "output_type": "stream",
     "text": [
      "Epoch 1/20, Train Loss: 0.4461, Val Loss: 0.3034, Train Acc: 79.26%, Val Acc: 89.00%, Train F1: 0.79, Val F1: 0.89, Train Recall: 0.79, Val Recall: 0.89\n"
     ]
    },
    {
     "name": "stderr",
     "output_type": "stream",
     "text": [
      "Epoch 2/20 - Training: 100%|█████████████████████████████████████████████████████████| 301/301 [00:19<00:00, 15.38it/s]\n",
      "Epoch 2/20 - Validation: 100%|█████████████████████████████████████████████████████████| 32/32 [00:04<00:00,  6.52it/s]\n"
     ]
    },
    {
     "name": "stdout",
     "output_type": "stream",
     "text": [
      "Epoch 2/20, Train Loss: 0.3547, Val Loss: 0.3317, Train Acc: 84.35%, Val Acc: 87.30%, Train F1: 0.84, Val F1: 0.87, Train Recall: 0.84, Val Recall: 0.87\n"
     ]
    },
    {
     "name": "stderr",
     "output_type": "stream",
     "text": [
      "Epoch 3/20 - Training: 100%|█████████████████████████████████████████████████████████| 301/301 [00:19<00:00, 15.34it/s]\n",
      "Epoch 3/20 - Validation: 100%|█████████████████████████████████████████████████████████| 32/32 [00:04<00:00,  6.42it/s]\n"
     ]
    },
    {
     "name": "stdout",
     "output_type": "stream",
     "text": [
      "Epoch 3/20, Train Loss: 0.3386, Val Loss: 0.2853, Train Acc: 85.11%, Val Acc: 90.30%, Train F1: 0.85, Val F1: 0.90, Train Recall: 0.85, Val Recall: 0.90\n"
     ]
    },
    {
     "name": "stderr",
     "output_type": "stream",
     "text": [
      "Epoch 4/20 - Training: 100%|█████████████████████████████████████████████████████████| 301/301 [00:19<00:00, 15.28it/s]\n",
      "Epoch 4/20 - Validation: 100%|█████████████████████████████████████████████████████████| 32/32 [00:04<00:00,  6.55it/s]\n"
     ]
    },
    {
     "name": "stdout",
     "output_type": "stream",
     "text": [
      "Epoch 4/20, Train Loss: 0.3189, Val Loss: 0.2619, Train Acc: 86.10%, Val Acc: 90.50%, Train F1: 0.86, Val F1: 0.90, Train Recall: 0.86, Val Recall: 0.91\n"
     ]
    },
    {
     "name": "stderr",
     "output_type": "stream",
     "text": [
      "Epoch 5/20 - Training: 100%|█████████████████████████████████████████████████████████| 301/301 [00:19<00:00, 15.40it/s]\n",
      "Epoch 5/20 - Validation: 100%|█████████████████████████████████████████████████████████| 32/32 [00:04<00:00,  6.46it/s]\n"
     ]
    },
    {
     "name": "stdout",
     "output_type": "stream",
     "text": [
      "Epoch 5/20, Train Loss: 0.3120, Val Loss: 0.2673, Train Acc: 86.49%, Val Acc: 89.90%, Train F1: 0.86, Val F1: 0.90, Train Recall: 0.86, Val Recall: 0.90\n"
     ]
    },
    {
     "name": "stderr",
     "output_type": "stream",
     "text": [
      "Epoch 6/20 - Training: 100%|█████████████████████████████████████████████████████████| 301/301 [00:19<00:00, 15.39it/s]\n",
      "Epoch 6/20 - Validation: 100%|█████████████████████████████████████████████████████████| 32/32 [00:04<00:00,  6.50it/s]\n"
     ]
    },
    {
     "name": "stdout",
     "output_type": "stream",
     "text": [
      "Epoch 6/20, Train Loss: 0.3005, Val Loss: 0.2644, Train Acc: 87.10%, Val Acc: 88.90%, Train F1: 0.87, Val F1: 0.89, Train Recall: 0.87, Val Recall: 0.89\n"
     ]
    },
    {
     "name": "stderr",
     "output_type": "stream",
     "text": [
      "Epoch 7/20 - Training: 100%|█████████████████████████████████████████████████████████| 301/301 [00:19<00:00, 15.38it/s]\n",
      "Epoch 7/20 - Validation: 100%|█████████████████████████████████████████████████████████| 32/32 [00:04<00:00,  6.56it/s]\n"
     ]
    },
    {
     "name": "stdout",
     "output_type": "stream",
     "text": [
      "Epoch 7/20, Train Loss: 0.2889, Val Loss: 0.2642, Train Acc: 87.55%, Val Acc: 90.80%, Train F1: 0.88, Val F1: 0.91, Train Recall: 0.88, Val Recall: 0.91\n"
     ]
    },
    {
     "name": "stderr",
     "output_type": "stream",
     "text": [
      "Epoch 8/20 - Training: 100%|█████████████████████████████████████████████████████████| 301/301 [00:19<00:00, 15.48it/s]\n",
      "Epoch 8/20 - Validation: 100%|█████████████████████████████████████████████████████████| 32/32 [00:04<00:00,  6.60it/s]\n"
     ]
    },
    {
     "name": "stdout",
     "output_type": "stream",
     "text": [
      "Epoch 8/20, Train Loss: 0.2813, Val Loss: 0.2617, Train Acc: 87.84%, Val Acc: 90.30%, Train F1: 0.88, Val F1: 0.90, Train Recall: 0.88, Val Recall: 0.90\n"
     ]
    },
    {
     "name": "stderr",
     "output_type": "stream",
     "text": [
      "Epoch 9/20 - Training: 100%|█████████████████████████████████████████████████████████| 301/301 [00:19<00:00, 15.50it/s]\n",
      "Epoch 9/20 - Validation: 100%|█████████████████████████████████████████████████████████| 32/32 [00:04<00:00,  6.54it/s]\n"
     ]
    },
    {
     "name": "stdout",
     "output_type": "stream",
     "text": [
      "Epoch 9/20, Train Loss: 0.2832, Val Loss: 0.2672, Train Acc: 87.79%, Val Acc: 89.00%, Train F1: 0.88, Val F1: 0.89, Train Recall: 0.88, Val Recall: 0.89\n"
     ]
    },
    {
     "name": "stderr",
     "output_type": "stream",
     "text": [
      "Epoch 10/20 - Training: 100%|████████████████████████████████████████████████████████| 301/301 [00:19<00:00, 15.41it/s]\n",
      "Epoch 10/20 - Validation: 100%|████████████████████████████████████████████████████████| 32/32 [00:04<00:00,  6.61it/s]\n"
     ]
    },
    {
     "name": "stdout",
     "output_type": "stream",
     "text": [
      "Epoch 10/20, Train Loss: 0.2710, Val Loss: 0.2564, Train Acc: 88.47%, Val Acc: 90.10%, Train F1: 0.88, Val F1: 0.90, Train Recall: 0.88, Val Recall: 0.90\n"
     ]
    },
    {
     "name": "stderr",
     "output_type": "stream",
     "text": [
      "Epoch 11/20 - Training: 100%|████████████████████████████████████████████████████████| 301/301 [00:19<00:00, 15.40it/s]\n",
      "Epoch 11/20 - Validation: 100%|████████████████████████████████████████████████████████| 32/32 [00:04<00:00,  6.60it/s]\n"
     ]
    },
    {
     "name": "stdout",
     "output_type": "stream",
     "text": [
      "Epoch 11/20, Train Loss: 0.2722, Val Loss: 0.2517, Train Acc: 88.62%, Val Acc: 90.10%, Train F1: 0.89, Val F1: 0.90, Train Recall: 0.89, Val Recall: 0.90\n"
     ]
    },
    {
     "name": "stderr",
     "output_type": "stream",
     "text": [
      "Epoch 12/20 - Training: 100%|████████████████████████████████████████████████████████| 301/301 [00:19<00:00, 15.46it/s]\n",
      "Epoch 12/20 - Validation: 100%|████████████████████████████████████████████████████████| 32/32 [00:04<00:00,  6.62it/s]\n"
     ]
    },
    {
     "name": "stdout",
     "output_type": "stream",
     "text": [
      "Epoch 12/20, Train Loss: 0.2647, Val Loss: 0.2468, Train Acc: 88.72%, Val Acc: 89.90%, Train F1: 0.89, Val F1: 0.90, Train Recall: 0.89, Val Recall: 0.90\n"
     ]
    },
    {
     "name": "stderr",
     "output_type": "stream",
     "text": [
      "Epoch 13/20 - Training: 100%|████████████████████████████████████████████████████████| 301/301 [00:19<00:00, 15.53it/s]\n",
      "Epoch 13/20 - Validation: 100%|████████████████████████████████████████████████████████| 32/32 [00:05<00:00,  6.35it/s]\n"
     ]
    },
    {
     "name": "stdout",
     "output_type": "stream",
     "text": [
      "Epoch 13/20, Train Loss: 0.2611, Val Loss: 0.2496, Train Acc: 88.67%, Val Acc: 89.90%, Train F1: 0.89, Val F1: 0.90, Train Recall: 0.89, Val Recall: 0.90\n"
     ]
    },
    {
     "name": "stderr",
     "output_type": "stream",
     "text": [
      "Epoch 14/20 - Training: 100%|████████████████████████████████████████████████████████| 301/301 [00:19<00:00, 15.50it/s]\n",
      "Epoch 14/20 - Validation: 100%|████████████████████████████████████████████████████████| 32/32 [00:04<00:00,  6.44it/s]\n"
     ]
    },
    {
     "name": "stdout",
     "output_type": "stream",
     "text": [
      "Epoch 14/20, Train Loss: 0.2599, Val Loss: 0.2451, Train Acc: 89.03%, Val Acc: 89.30%, Train F1: 0.89, Val F1: 0.89, Train Recall: 0.89, Val Recall: 0.89\n"
     ]
    },
    {
     "name": "stderr",
     "output_type": "stream",
     "text": [
      "Epoch 15/20 - Training: 100%|████████████████████████████████████████████████████████| 301/301 [00:19<00:00, 15.22it/s]\n",
      "Epoch 15/20 - Validation: 100%|████████████████████████████████████████████████████████| 32/32 [00:04<00:00,  6.55it/s]\n"
     ]
    },
    {
     "name": "stdout",
     "output_type": "stream",
     "text": [
      "Epoch 15/20, Train Loss: 0.2535, Val Loss: 0.2534, Train Acc: 89.36%, Val Acc: 89.30%, Train F1: 0.89, Val F1: 0.89, Train Recall: 0.89, Val Recall: 0.89\n"
     ]
    },
    {
     "name": "stderr",
     "output_type": "stream",
     "text": [
      "Epoch 16/20 - Training: 100%|████████████████████████████████████████████████████████| 301/301 [00:19<00:00, 15.34it/s]\n",
      "Epoch 16/20 - Validation: 100%|████████████████████████████████████████████████████████| 32/32 [00:04<00:00,  6.60it/s]\n"
     ]
    },
    {
     "name": "stdout",
     "output_type": "stream",
     "text": [
      "Epoch 16/20, Train Loss: 0.2523, Val Loss: 0.2626, Train Acc: 89.37%, Val Acc: 90.70%, Train F1: 0.89, Val F1: 0.91, Train Recall: 0.89, Val Recall: 0.91\n"
     ]
    },
    {
     "name": "stderr",
     "output_type": "stream",
     "text": [
      "Epoch 17/20 - Training: 100%|████████████████████████████████████████████████████████| 301/301 [00:19<00:00, 15.41it/s]\n",
      "Epoch 17/20 - Validation: 100%|████████████████████████████████████████████████████████| 32/32 [00:04<00:00,  6.56it/s]\n"
     ]
    },
    {
     "name": "stdout",
     "output_type": "stream",
     "text": [
      "Epoch 17/20, Train Loss: 0.2536, Val Loss: 0.2512, Train Acc: 89.16%, Val Acc: 90.70%, Train F1: 0.89, Val F1: 0.91, Train Recall: 0.89, Val Recall: 0.91\n"
     ]
    },
    {
     "name": "stderr",
     "output_type": "stream",
     "text": [
      "Epoch 18/20 - Training: 100%|████████████████████████████████████████████████████████| 301/301 [00:19<00:00, 15.43it/s]\n",
      "Epoch 18/20 - Validation: 100%|████████████████████████████████████████████████████████| 32/32 [00:04<00:00,  6.51it/s]\n"
     ]
    },
    {
     "name": "stdout",
     "output_type": "stream",
     "text": [
      "Epoch 18/20, Train Loss: 0.2541, Val Loss: 0.2478, Train Acc: 89.23%, Val Acc: 91.10%, Train F1: 0.89, Val F1: 0.91, Train Recall: 0.89, Val Recall: 0.91\n"
     ]
    },
    {
     "name": "stderr",
     "output_type": "stream",
     "text": [
      "Epoch 19/20 - Training: 100%|████████████████████████████████████████████████████████| 301/301 [00:19<00:00, 15.48it/s]\n",
      "Epoch 19/20 - Validation: 100%|████████████████████████████████████████████████████████| 32/32 [00:04<00:00,  6.52it/s]\n"
     ]
    },
    {
     "name": "stdout",
     "output_type": "stream",
     "text": [
      "Epoch 19/20, Train Loss: 0.2467, Val Loss: 0.2503, Train Acc: 89.61%, Val Acc: 88.90%, Train F1: 0.90, Val F1: 0.89, Train Recall: 0.90, Val Recall: 0.89\n"
     ]
    },
    {
     "name": "stderr",
     "output_type": "stream",
     "text": [
      "Epoch 20/20 - Training: 100%|████████████████████████████████████████████████████████| 301/301 [00:19<00:00, 15.37it/s]\n",
      "Epoch 20/20 - Validation: 100%|████████████████████████████████████████████████████████| 32/32 [00:04<00:00,  6.53it/s]"
     ]
    },
    {
     "name": "stdout",
     "output_type": "stream",
     "text": [
      "Epoch 20/20, Train Loss: 0.2477, Val Loss: 0.2733, Train Acc: 89.65%, Val Acc: 90.30%, Train F1: 0.90, Val F1: 0.90, Train Recall: 0.90, Val Recall: 0.90\n"
     ]
    },
    {
     "name": "stderr",
     "output_type": "stream",
     "text": [
      "\n"
     ]
    }
   ],
   "source": [
    "num_epochs = 20\n",
    "train_losses = []\n",
    "val_losses = []\n",
    "train_accuracies = []\n",
    "val_accuracies = []\n",
    "train_f1_scores = []\n",
    "train_recall_scores = []\n",
    "val_f1_scores = []\n",
    "val_recall_scores = []\n",
    "\n",
    "for epoch in range(num_epochs):\n",
    "    model.train()\n",
    "    running_loss = 0.0\n",
    "    correct = 0\n",
    "    total = 0\n",
    "    train_preds = []\n",
    "    train_labels = []\n",
    "    for inputs, labels in tqdm(train_loader, desc=f\"Epoch {epoch+1}/{num_epochs} - Training\"):\n",
    "        inputs, labels = inputs.to(device), labels.to(device)\n",
    "        optimizer.zero_grad()\n",
    "        outputs = model(inputs)\n",
    "        loss = criterion(outputs, labels)\n",
    "        loss.backward()\n",
    "        optimizer.step()\n",
    "        running_loss += loss.item()\n",
    "        _, predicted = torch.max(outputs.data, 1)\n",
    "        total += labels.size(0)\n",
    "        correct += (predicted == labels).sum().item()\n",
    "        train_preds.extend(predicted.cpu().numpy())\n",
    "        train_labels.extend(labels.cpu().numpy())\n",
    "    train_losses.append(running_loss / len(train_loader))\n",
    "    train_accuracies.append(100 * correct / total)\n",
    "    train_f1 = f1_score(train_labels, train_preds, average='weighted')\n",
    "    train_recall = recall_score(train_labels, train_preds, average='weighted')\n",
    "    train_f1_scores.append(train_f1)\n",
    "    train_recall_scores.append(train_recall)\n",
    "\n",
    "    # 验证模式\n",
    "    model.eval()\n",
    "    val_loss = 0.0\n",
    "    correct = 0\n",
    "    total = 0\n",
    "    val_preds = []\n",
    "    val_labels = []\n",
    "    with torch.no_grad():\n",
    "        for inputs, labels in tqdm(test_loader, desc=f\"Epoch {epoch+1}/{num_epochs} - Validation\"):\n",
    "            inputs, labels = inputs.to(device), labels.to(device)\n",
    "            outputs = model(inputs)\n",
    "            loss = criterion(outputs, labels)\n",
    "            val_loss += loss.item()\n",
    "            _, predicted = torch.max(outputs.data, 1)\n",
    "            total += labels.size(0)\n",
    "            correct += (predicted == labels).sum().item()\n",
    "            val_preds.extend(predicted.cpu().numpy())\n",
    "            val_labels.extend(labels.cpu().numpy())\n",
    "    val_losses.append(val_loss / len(test_loader))\n",
    "    val_accuracies.append(100 * correct / total)\n",
    "    val_f1 = f1_score(val_labels, val_preds, average='weighted')\n",
    "    val_recall = recall_score(val_labels, val_preds, average='weighted')\n",
    "    val_f1_scores.append(val_f1)\n",
    "    val_recall_scores.append(val_recall)\n",
    "    \n",
    "    # 早停机制\n",
    "    if val_loss / len(test_loader) < best_val_loss:\n",
    "        best_val_loss = val_loss / len(test_loader)\n",
    "        early_stopping_counter = 0\n",
    "    else:\n",
    "        early_stopping_counter += 1\n",
    "        if early_stopping_counter >= early_stopping_patience:\n",
    "            print(f\"Early stopping at epoch {epoch+1}\")\n",
    "            break\n",
    "    \n",
    "    # 打印当前轮次的损失和准确率\n",
    "    print(f\"Epoch {epoch+1}/{num_epochs}, Train Loss: {train_losses[-1]:.4f}, Val Loss: {val_losses[-1]:.4f}, Train Acc: {train_accuracies[-1]:.2f}%, Val Acc: {val_accuracies[-1]:.2f}%, Train F1: {train_f1:.2f}, Val F1: {val_f1:.2f}, Train Recall: {train_recall:.2f}, Val Recall: {val_recall:.2f}\")\n"
   ]
  },
  {
   "cell_type": "markdown",
   "id": "82b9b51e-81e1-4565-8572-2a30d422d1bd",
   "metadata": {},
   "source": [
    "### 绘制图"
   ]
  },
  {
   "cell_type": "code",
   "execution_count": 19,
   "id": "c31ad38c-aa99-4f37-b278-dfb5fa2b3dab",
   "metadata": {},
   "outputs": [
    {
     "data": {
      "image/png": "[encoded data removed]",
      "text/plain": [
       "<Figure size 640x480 with 1 Axes>"
      ]
     },
     "metadata": {},
     "output_type": "display_data"
    },
    {
     "data": {
      "image/png": "[encoded data removed]",
      "text/plain": [
       "<Figure size 640x480 with 1 Axes>"
      ]
     },
     "metadata": {},
     "output_type": "display_data"
    },
    {
     "data": {
      "image/png": "[encoded data removed]",
      "text/plain": [
       "<Figure size 640x480 with 1 Axes>"
      ]
     },
     "metadata": {},
     "output_type": "display_data"
    },
    {
     "data": {
      "image/png": "[encoded data removed]",
      "text/plain": [
       "<Figure size 640x480 with 1 Axes>"
      ]
     },
     "metadata": {},
     "output_type": "display_data"
    }
   ],
   "source": [
    "# 绘制训练和验证的损失曲线\n",
    "plt.figure()\n",
    "plt.plot(range(len(train_losses)), train_losses, label='Train Loss')\n",
    "plt.plot(range(len(val_losses)), val_losses, label='Validation Loss')\n",
    "plt.xlabel('Epochs')\n",
    "plt.ylabel('Loss')\n",
    "plt.legend()\n",
    "plt.show()\n",
    "\n",
    "# 绘制训练和验证的准确率曲线\n",
    "plt.figure()\n",
    "plt.plot(range(len(train_accuracies)), train_accuracies, label='Train Accuracy')\n",
    "plt.plot(range(len(val_accuracies)), val_accuracies, label='Validation Accuracy')\n",
    "plt.xlabel('Epochs')\n",
    "plt.ylabel('Accuracy')\n",
    "plt.legend()\n",
    "plt.show()\n",
    "\n",
    "# 绘制F1得分曲线\n",
    "plt.figure()\n",
    "plt.plot(range(len(train_f1_scores)), train_f1_scores, label='Train F1')\n",
    "plt.plot(range(len(val_f1_scores)), val_f1_scores, label='Validation F1')\n",
    "plt.xlabel('Epochs')\n",
    "plt.ylabel('F1 Score')\n",
    "plt.legend()\n",
    "plt.show()\n",
    "\n",
    "# 绘制召回率曲线\n",
    "plt.figure()\n",
    "plt.plot(range(len(train_recall_scores)), train_recall_scores, label='Train Recall')\n",
    "plt.plot(range(len(val_recall_scores)), val_recall_scores, label='Validation Recall')\n",
    "plt.xlabel('Epochs')\n",
    "plt.ylabel('Recall Score')\n",
    "plt.legend()\n",
    "plt.show()"
   ]
  },
  {
   "cell_type": "markdown",
   "id": "3913bdab-f93a-4975-80c3-d82ce854e3cb",
   "metadata": {},
   "source": [
    "#### 提取特征和标签"
   ]
  },
  {
   "cell_type": "code",
   "execution_count": 21,
   "id": "3d27a9ed-48f6-4085-94c7-3e9d62849994",
   "metadata": {},
   "outputs": [],
   "source": [
    "def extract_features_and_labels(loader):\n",
    "    features = []\n",
    "    labels = []\n",
    "    for inputs, lbls in loader:\n",
    "        inputs = inputs.to(device)\n",
    "        outputs = model.pool(F.relu(model.conv3(model.pool(F.relu(model.conv2(model.pool(F.relu(model.conv1(inputs)))))))))\n",
    "        outputs = outputs.view(outputs.size(0), -1).cpu().detach().numpy()\n",
    "        features.append(outputs)\n",
    "        labels.append(lbls.numpy())\n",
    "    features = np.concatenate(features)\n",
    "    labels = np.concatenate(labels)\n",
    "    return features, labels\n",
    "\n",
    "train_features, train_labels = extract_features_and_labels(train_loader)\n",
    "test_features, test_labels = extract_features_and_labels(test_loader)\n"
   ]
  },
  {
   "cell_type": "markdown",
   "id": "eff5eee4-2cd1-4c51-bfe3-0355a8458aa6",
   "metadata": {},
   "source": [
    "##### 特征选择（使用卡方检验）"
   ]
  },
  {
   "cell_type": "code",
   "execution_count": 22,
   "id": "a1ae3b71-a849-49a7-be18-af8bfa590a5e",
   "metadata": {},
   "outputs": [],
   "source": [
    "selector = SelectPercentile(chi2, percentile=10)\n",
    "train_features_selected = selector.fit_transform(train_features, train_labels)\n",
    "test_features_selected = selector.transform(test_features)\n"
   ]
  },
  {
   "cell_type": "markdown",
   "id": "344ad108-e802-491a-a45f-04d12aeb782a",
   "metadata": {},
   "source": [
    "### 训练随机森林分类器"
   ]
  },
  {
   "cell_type": "code",
   "execution_count": 23,
   "id": "9fcd136f-dd57-463b-9ba3-6113c30cc0f8",
   "metadata": {},
   "outputs": [
    {
     "data": {
      "text/html": [
       "<style>#sk-container-id-1 {\n",
       "  /* Definition of color scheme common for light and dark mode */\n",
       "  --sklearn-color-text: black;\n",
       "  --sklearn-color-line: gray;\n",
       "  /* Definition of color scheme for unfitted estimators */\n",
       "  --sklearn-color-unfitted-level-0: #fff5e6;\n",
       "  --sklearn-color-unfitted-level-1: #f6e4d2;\n",
       "  --sklearn-color-unfitted-level-2: #ffe0b3;\n",
       "  --sklearn-color-unfitted-level-3: chocolate;\n",
       "  /* Definition of color scheme for fitted estimators */\n",
       "  --sklearn-color-fitted-level-0: #f0f8ff;\n",
       "  --sklearn-color-fitted-level-1: #d4ebff;\n",
       "  --sklearn-color-fitted-level-2: #b3dbfd;\n",
       "  --sklearn-color-fitted-level-3: cornflowerblue;\n",
       "\n",
       "  /* Specific color for light theme */\n",
       "  --sklearn-color-text-on-default-background: var(--sg-text-color, var(--theme-code-foreground, var(--jp-content-font-color1, black)));\n",
       "  --sklearn-color-background: var(--sg-background-color, var(--theme-background, var(--jp-layout-color0, white)));\n",
       "  --sklearn-color-border-box: var(--sg-text-color, var(--theme-code-foreground, var(--jp-content-font-color1, black)));\n",
       "  --sklearn-color-icon: #696969;\n",
       "\n",
       "  @media (prefers-color-scheme: dark) {\n",
       "    /* Redefinition of color scheme for dark theme */\n",
       "    --sklearn-color-text-on-default-background: var(--sg-text-color, var(--theme-code-foreground, var(--jp-content-font-color1, white)));\n",
       "    --sklearn-color-background: var(--sg-background-color, var(--theme-background, var(--jp-layout-color0, #111)));\n",
       "    --sklearn-color-border-box: var(--sg-text-color, var(--theme-code-foreground, var(--jp-content-font-color1, white)));\n",
       "    --sklearn-color-icon: #878787;\n",
       "  }\n",
       "}\n",
       "\n",
       "#sk-container-id-1 {\n",
       "  color: var(--sklearn-color-text);\n",
       "}\n",
       "\n",
       "#sk-container-id-1 pre {\n",
       "  padding: 0;\n",
       "}\n",
       "\n",
       "#sk-container-id-1 input.sk-hidden--visually {\n",
       "  border: 0;\n",
       "  clip: rect(1px 1px 1px 1px);\n",
       "  clip: rect(1px, 1px, 1px, 1px);\n",
       "  height: 1px;\n",
       "  margin: -1px;\n",
       "  overflow: hidden;\n",
       "  padding: 0;\n",
       "  position: absolute;\n",
       "  width: 1px;\n",
       "}\n",
       "\n",
       "#sk-container-id-1 div.sk-dashed-wrapped {\n",
       "  border: 1px dashed var(--sklearn-color-line);\n",
       "  margin: 0 0.4em 0.5em 0.4em;\n",
       "  box-sizing: border-box;\n",
       "  padding-bottom: 0.4em;\n",
       "  background-color: var(--sklearn-color-background);\n",
       "}\n",
       "\n",
       "#sk-container-id-1 div.sk-container {\n",
       "  /* jupyter's `normalize.less` sets `[hidden] { display: none; }`\n",
       "     but bootstrap.min.css set `[hidden] { display: none !important; }`\n",
       "     so we also need the `!important` here to be able to override the\n",
       "     default hidden behavior on the sphinx rendered scikit-learn.org.\n",
       "     See: https://github.com/scikit-learn/scikit-learn/issues/21755 */\n",
       "  display: inline-block !important;\n",
       "  position: relative;\n",
       "}\n",
       "\n",
       "#sk-container-id-1 div.sk-text-repr-fallback {\n",
       "  display: none;\n",
       "}\n",
       "\n",
       "div.sk-parallel-item,\n",
       "div.sk-serial,\n",
       "div.sk-item {\n",
       "  /* draw centered vertical line to link estimators */\n",
       "  background-image: linear-gradient(var(--sklearn-color-text-on-default-background), var(--sklearn-color-text-on-default-background));\n",
       "  background-size: 2px 100%;\n",
       "  background-repeat: no-repeat;\n",
       "  background-position: center center;\n",
       "}\n",
       "\n",
       "/* Parallel-specific style estimator block */\n",
       "\n",
       "#sk-container-id-1 div.sk-parallel-item::after {\n",
       "  content: \"\";\n",
       "  width: 100%;\n",
       "  border-bottom: 2px solid var(--sklearn-color-text-on-default-background);\n",
       "  flex-grow: 1;\n",
       "}\n",
       "\n",
       "#sk-container-id-1 div.sk-parallel {\n",
       "  display: flex;\n",
       "  align-items: stretch;\n",
       "  justify-content: center;\n",
       "  background-color: var(--sklearn-color-background);\n",
       "  position: relative;\n",
       "}\n",
       "\n",
       "#sk-container-id-1 div.sk-parallel-item {\n",
       "  display: flex;\n",
       "  flex-direction: column;\n",
       "}\n",
       "\n",
       "#sk-container-id-1 div.sk-parallel-item:first-child::after {\n",
       "  align-self: flex-end;\n",
       "  width: 50%;\n",
       "}\n",
       "\n",
       "#sk-container-id-1 div.sk-parallel-item:last-child::after {\n",
       "  align-self: flex-start;\n",
       "  width: 50%;\n",
       "}\n",
       "\n",
       "#sk-container-id-1 div.sk-parallel-item:only-child::after {\n",
       "  width: 0;\n",
       "}\n",
       "\n",
       "/* Serial-specific style estimator block */\n",
       "\n",
       "#sk-container-id-1 div.sk-serial {\n",
       "  display: flex;\n",
       "  flex-direction: column;\n",
       "  align-items: center;\n",
       "  background-color: var(--sklearn-color-background);\n",
       "  padding-right: 1em;\n",
       "  padding-left: 1em;\n",
       "}\n",
       "\n",
       "\n",
       "/* Toggleable style: style used for estimator/Pipeline/ColumnTransformer box that is\n",
       "clickable and can be expanded/collapsed.\n",
       "- Pipeline and ColumnTransformer use this feature and define the default style\n",
       "- Estimators will overwrite some part of the style using the `sk-estimator` class\n",
       "*/\n",
       "\n",
       "/* Pipeline and ColumnTransformer style (default) */\n",
       "\n",
       "#sk-container-id-1 div.sk-toggleable {\n",
       "  /* Default theme specific background. It is overwritten whether we have a\n",
       "  specific estimator or a Pipeline/ColumnTransformer */\n",
       "  background-color: var(--sklearn-color-background);\n",
       "}\n",
       "\n",
       "/* Toggleable label */\n",
       "#sk-container-id-1 label.sk-toggleable__label {\n",
       "  cursor: pointer;\n",
       "  display: block;\n",
       "  width: 100%;\n",
       "  margin-bottom: 0;\n",
       "  padding: 0.5em;\n",
       "  box-sizing: border-box;\n",
       "  text-align: center;\n",
       "}\n",
       "\n",
       "#sk-container-id-1 label.sk-toggleable__label-arrow:before {\n",
       "  /* Arrow on the left of the label */\n",
       "  content: \"▸\";\n",
       "  float: left;\n",
       "  margin-right: 0.25em;\n",
       "  color: var(--sklearn-color-icon);\n",
       "}\n",
       "\n",
       "#sk-container-id-1 label.sk-toggleable__label-arrow:hover:before {\n",
       "  color: var(--sklearn-color-text);\n",
       "}\n",
       "\n",
       "/* Toggleable content - dropdown */\n",
       "\n",
       "#sk-container-id-1 div.sk-toggleable__content {\n",
       "  max-height: 0;\n",
       "  max-width: 0;\n",
       "  overflow: hidden;\n",
       "  text-align: left;\n",
       "  /* unfitted */\n",
       "  background-color: var(--sklearn-color-unfitted-level-0);\n",
       "}\n",
       "\n",
       "#sk-container-id-1 div.sk-toggleable__content.fitted {\n",
       "  /* fitted */\n",
       "  background-color: var(--sklearn-color-fitted-level-0);\n",
       "}\n",
       "\n",
       "#sk-container-id-1 div.sk-toggleable__content pre {\n",
       "  margin: 0.2em;\n",
       "  border-radius: 0.25em;\n",
       "  color: var(--sklearn-color-text);\n",
       "  /* unfitted */\n",
       "  background-color: var(--sklearn-color-unfitted-level-0);\n",
       "}\n",
       "\n",
       "#sk-container-id-1 div.sk-toggleable__content.fitted pre {\n",
       "  /* unfitted */\n",
       "  background-color: var(--sklearn-color-fitted-level-0);\n",
       "}\n",
       "\n",
       "#sk-container-id-1 input.sk-toggleable__control:checked~div.sk-toggleable__content {\n",
       "  /* Expand drop-down */\n",
       "  max-height: 200px;\n",
       "  max-width: 100%;\n",
       "  overflow: auto;\n",
       "}\n",
       "\n",
       "#sk-container-id-1 input.sk-toggleable__control:checked~label.sk-toggleable__label-arrow:before {\n",
       "  content: \"▾\";\n",
       "}\n",
       "\n",
       "/* Pipeline/ColumnTransformer-specific style */\n",
       "\n",
       "#sk-container-id-1 div.sk-label input.sk-toggleable__control:checked~label.sk-toggleable__label {\n",
       "  color: var(--sklearn-color-text);\n",
       "  background-color: var(--sklearn-color-unfitted-level-2);\n",
       "}\n",
       "\n",
       "#sk-container-id-1 div.sk-label.fitted input.sk-toggleable__control:checked~label.sk-toggleable__label {\n",
       "  background-color: var(--sklearn-color-fitted-level-2);\n",
       "}\n",
       "\n",
       "/* Estimator-specific style */\n",
       "\n",
       "/* Colorize estimator box */\n",
       "#sk-container-id-1 div.sk-estimator input.sk-toggleable__control:checked~label.sk-toggleable__label {\n",
       "  /* unfitted */\n",
       "  background-color: var(--sklearn-color-unfitted-level-2);\n",
       "}\n",
       "\n",
       "#sk-container-id-1 div.sk-estimator.fitted input.sk-toggleable__control:checked~label.sk-toggleable__label {\n",
       "  /* fitted */\n",
       "  background-color: var(--sklearn-color-fitted-level-2);\n",
       "}\n",
       "\n",
       "#sk-container-id-1 div.sk-label label.sk-toggleable__label,\n",
       "#sk-container-id-1 div.sk-label label {\n",
       "  /* The background is the default theme color */\n",
       "  color: var(--sklearn-color-text-on-default-background);\n",
       "}\n",
       "\n",
       "/* On hover, darken the color of the background */\n",
       "#sk-container-id-1 div.sk-label:hover label.sk-toggleable__label {\n",
       "  color: var(--sklearn-color-text);\n",
       "  background-color: var(--sklearn-color-unfitted-level-2);\n",
       "}\n",
       "\n",
       "/* Label box, darken color on hover, fitted */\n",
       "#sk-container-id-1 div.sk-label.fitted:hover label.sk-toggleable__label.fitted {\n",
       "  color: var(--sklearn-color-text);\n",
       "  background-color: var(--sklearn-color-fitted-level-2);\n",
       "}\n",
       "\n",
       "/* Estimator label */\n",
       "\n",
       "#sk-container-id-1 div.sk-label label {\n",
       "  font-family: monospace;\n",
       "  font-weight: bold;\n",
       "  display: inline-block;\n",
       "  line-height: 1.2em;\n",
       "}\n",
       "\n",
       "#sk-container-id-1 div.sk-label-container {\n",
       "  text-align: center;\n",
       "}\n",
       "\n",
       "/* Estimator-specific */\n",
       "#sk-container-id-1 div.sk-estimator {\n",
       "  font-family: monospace;\n",
       "  border: 1px dotted var(--sklearn-color-border-box);\n",
       "  border-radius: 0.25em;\n",
       "  box-sizing: border-box;\n",
       "  margin-bottom: 0.5em;\n",
       "  /* unfitted */\n",
       "  background-color: var(--sklearn-color-unfitted-level-0);\n",
       "}\n",
       "\n",
       "#sk-container-id-1 div.sk-estimator.fitted {\n",
       "  /* fitted */\n",
       "  background-color: var(--sklearn-color-fitted-level-0);\n",
       "}\n",
       "\n",
       "/* on hover */\n",
       "#sk-container-id-1 div.sk-estimator:hover {\n",
       "  /* unfitted */\n",
       "  background-color: var(--sklearn-color-unfitted-level-2);\n",
       "}\n",
       "\n",
       "#sk-container-id-1 div.sk-estimator.fitted:hover {\n",
       "  /* fitted */\n",
       "  background-color: var(--sklearn-color-fitted-level-2);\n",
       "}\n",
       "\n",
       "/* Specification for estimator info (e.g. \"i\" and \"?\") */\n",
       "\n",
       "/* Common style for \"i\" and \"?\" */\n",
       "\n",
       ".sk-estimator-doc-link,\n",
       "a:link.sk-estimator-doc-link,\n",
       "a:visited.sk-estimator-doc-link {\n",
       "  float: right;\n",
       "  font-size: smaller;\n",
       "  line-height: 1em;\n",
       "  font-family: monospace;\n",
       "  background-color: var(--sklearn-color-background);\n",
       "  border-radius: 1em;\n",
       "  height: 1em;\n",
       "  width: 1em;\n",
       "  text-decoration: none !important;\n",
       "  margin-left: 1ex;\n",
       "  /* unfitted */\n",
       "  border: var(--sklearn-color-unfitted-level-1) 1pt solid;\n",
       "  color: var(--sklearn-color-unfitted-level-1);\n",
       "}\n",
       "\n",
       ".sk-estimator-doc-link.fitted,\n",
       "a:link.sk-estimator-doc-link.fitted,\n",
       "a:visited.sk-estimator-doc-link.fitted {\n",
       "  /* fitted */\n",
       "  border: var(--sklearn-color-fitted-level-1) 1pt solid;\n",
       "  color: var(--sklearn-color-fitted-level-1);\n",
       "}\n",
       "\n",
       "/* On hover */\n",
       "div.sk-estimator:hover .sk-estimator-doc-link:hover,\n",
       ".sk-estimator-doc-link:hover,\n",
       "div.sk-label-container:hover .sk-estimator-doc-link:hover,\n",
       ".sk-estimator-doc-link:hover {\n",
       "  /* unfitted */\n",
       "  background-color: var(--sklearn-color-unfitted-level-3);\n",
       "  color: var(--sklearn-color-background);\n",
       "  text-decoration: none;\n",
       "}\n",
       "\n",
       "div.sk-estimator.fitted:hover .sk-estimator-doc-link.fitted:hover,\n",
       ".sk-estimator-doc-link.fitted:hover,\n",
       "div.sk-label-container:hover .sk-estimator-doc-link.fitted:hover,\n",
       ".sk-estimator-doc-link.fitted:hover {\n",
       "  /* fitted */\n",
       "  background-color: var(--sklearn-color-fitted-level-3);\n",
       "  color: var(--sklearn-color-background);\n",
       "  text-decoration: none;\n",
       "}\n",
       "\n",
       "/* Span, style for the box shown on hovering the info icon */\n",
       ".sk-estimator-doc-link span {\n",
       "  display: none;\n",
       "  z-index: 9999;\n",
       "  position: relative;\n",
       "  font-weight: normal;\n",
       "  right: .2ex;\n",
       "  padding: .5ex;\n",
       "  margin: .5ex;\n",
       "  width: min-content;\n",
       "  min-width: 20ex;\n",
       "  max-width: 50ex;\n",
       "  color: var(--sklearn-color-text);\n",
       "  box-shadow: 2pt 2pt 4pt #999;\n",
       "  /* unfitted */\n",
       "  background: var(--sklearn-color-unfitted-level-0);\n",
       "  border: .5pt solid var(--sklearn-color-unfitted-level-3);\n",
       "}\n",
       "\n",
       ".sk-estimator-doc-link.fitted span {\n",
       "  /* fitted */\n",
       "  background: var(--sklearn-color-fitted-level-0);\n",
       "  border: var(--sklearn-color-fitted-level-3);\n",
       "}\n",
       "\n",
       ".sk-estimator-doc-link:hover span {\n",
       "  display: block;\n",
       "}\n",
       "\n",
       "/* \"?\"-specific style due to the `<a>` HTML tag */\n",
       "\n",
       "#sk-container-id-1 a.estimator_doc_link {\n",
       "  float: right;\n",
       "  font-size: 1rem;\n",
       "  line-height: 1em;\n",
       "  font-family: monospace;\n",
       "  background-color: var(--sklearn-color-background);\n",
       "  border-radius: 1rem;\n",
       "  height: 1rem;\n",
       "  width: 1rem;\n",
       "  text-decoration: none;\n",
       "  /* unfitted */\n",
       "  color: var(--sklearn-color-unfitted-level-1);\n",
       "  border: var(--sklearn-color-unfitted-level-1) 1pt solid;\n",
       "}\n",
       "\n",
       "#sk-container-id-1 a.estimator_doc_link.fitted {\n",
       "  /* fitted */\n",
       "  border: var(--sklearn-color-fitted-level-1) 1pt solid;\n",
       "  color: var(--sklearn-color-fitted-level-1);\n",
       "}\n",
       "\n",
       "/* On hover */\n",
       "#sk-container-id-1 a.estimator_doc_link:hover {\n",
       "  /* unfitted */\n",
       "  background-color: var(--sklearn-color-unfitted-level-3);\n",
       "  color: var(--sklearn-color-background);\n",
       "  text-decoration: none;\n",
       "}\n",
       "\n",
       "#sk-container-id-1 a.estimator_doc_link.fitted:hover {\n",
       "  /* fitted */\n",
       "  background-color: var(--sklearn-color-fitted-level-3);\n",
       "}\n",
       "</style><div id=\"sk-container-id-1\" class=\"sk-top-container\"><div class=\"sk-text-repr-fallback\"><pre>RandomForestClassifier(random_state=42)</pre><b>In a Jupyter environment, please rerun this cell to show the HTML representation or trust the notebook. <br />On GitHub, the HTML representation is unable to render, please try loading this page with nbviewer.org.</b></div><div class=\"sk-container\" hidden><div class=\"sk-item\"><div class=\"sk-estimator fitted sk-toggleable\"><input class=\"sk-toggleable__control sk-hidden--visually\" id=\"sk-estimator-id-1\" type=\"checkbox\" checked><label for=\"sk-estimator-id-1\" class=\"sk-toggleable__label fitted sk-toggleable__label-arrow fitted\">&nbsp;&nbsp;RandomForestClassifier<a class=\"sk-estimator-doc-link fitted\" rel=\"noreferrer\" target=\"_blank\" href=\"https://scikit-learn.org/1.4/modules/generated/sklearn.ensemble.RandomForestClassifier.html\">?<span>Documentation for RandomForestClassifier</span></a><span class=\"sk-estimator-doc-link fitted\">i<span>Fitted</span></span></label><div class=\"sk-toggleable__content fitted\"><pre>RandomForestClassifier(random_state=42)</pre></div> </div></div></div></div>"
      ],
      "text/plain": [
       "RandomForestClassifier(random_state=42)"
      ]
     },
     "execution_count": 23,
     "metadata": {},
     "output_type": "execute_result"
    }
   ],
   "source": [
    "rf_classifier = RandomForestClassifier(n_estimators=100, random_state=42)\n",
    "rf_classifier.fit(train_features_selected, train_labels)\n"
   ]
  },
  {
   "cell_type": "markdown",
   "id": "fd2b5565-d98b-488e-859c-054115d39e51",
   "metadata": {},
   "source": [
    "### 测试集上的预测和评估\n",
    "### 计算评估指标"
   ]
  },
  {
   "cell_type": "code",
   "execution_count": 24,
   "id": "917fd01f-e933-4f8f-b7d8-5c5e9f47b192",
   "metadata": {},
   "outputs": [
    {
     "name": "stdout",
     "output_type": "stream",
     "text": [
      "Accuracy: 0.9050\n",
      "Precision: 0.9263\n",
      "Recall: 0.8800\n",
      "F1 Score: 0.9026\n"
     ]
    }
   ],
   "source": [
    "# 测试集上的预测和评估\n",
    "test_predictions = rf_classifier.predict(test_features_selected)\n",
    "# 计算评估指标\n",
    "accuracy = accuracy_score(test_labels, test_predictions)\n",
    "precision = precision_score(test_labels, test_predictions)\n",
    "recall = recall_score(test_labels, test_predictions)\n",
    "f1 = f1_score(test_labels, test_predictions)\n",
    "\n",
    "print(f\"Accuracy: {accuracy:.4f}\")\n",
    "print(f\"Precision: {precision:.4f}\")\n",
    "print(f\"Recall: {recall:.4f}\")\n",
    "print(f\"F1 Score: {f1:.4f}\")\n"
   ]
  }
 ],
 "metadata": {
  "kernelspec": {
   "display_name": "jiqi",
   "language": "python",
   "name": "jiqi"
  },
  "language_info": {
   "codemirror_mode": {
    "name": "ipython",
    "version": 3
   },
   "file_extension": ".py",
   "mimetype": "text/x-python",
   "name": "python",
   "nbconvert_exporter": "python",
   "pygments_lexer": "ipython3",
   "version": "3.11.9"
  }
 },
 "nbformat": 4,
 "nbformat_minor": 5
}
